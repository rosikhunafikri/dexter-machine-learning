{
 "cells": [
  {
   "cell_type": "markdown",
   "metadata": {
    "slideshow": {
     "slide_type": "slide"
    }
   },
   "source": [
    "# Introduction to Python programming\n",
    "Dr. Manfred Eppe"
   ]
  },
  {
   "cell_type": "markdown",
   "metadata": {
    "slideshow": {
     "slide_type": "-"
    }
   },
   "source": [
    "Material partially adapted from J.R. Johansson (jrjohansson at gmail.com) [http://github.com/jrjohansson/scientific-python-lectures](http://github.com/jrjohansson/scientific-python-lectures)."
   ]
  },
  {
   "cell_type": "markdown",
   "metadata": {
    "slideshow": {
     "slide_type": "fragment"
    }
   },
   "source": [
    "<b>Python:</b> \n",
    "* #1 Programming language in Data Science and AI\n",
    "* Lots of code available (e.g. github, kaggle), great community support\n",
    "* Interpreted language (no compilation necessary)\n",
    "* Clean syntax, object oriented, powerful extensions. E.g. numpy package for statistical AI processing\n",
    "* Jupyter notebooks (.ipynb files) allow for step-wise execution (used in the lectures) to illustrate code\n",
    "* Sophisticated IDEs available (we’ll use Pycharm in the exercises and the projects)"
   ]
  },
  {
   "cell_type": "markdown",
   "metadata": {
    "slideshow": {
     "slide_type": "slide"
    }
   },
   "source": [
    "### A simple code snippet with if-then-else control-flow "
   ]
  },
  {
   "cell_type": "code",
   "execution_count": 1,
   "metadata": {
    "pycharm": {
     "name": "#%% \n"
    },
    "slideshow": {
     "slide_type": "-"
    }
   },
   "outputs": [
    {
     "name": "stdout",
     "output_type": "stream",
     "text": [
      "1\n",
      "Hallo Moon\n"
     ]
    }
   ],
   "source": [
    "x = 5 - 4     # comment: integer difference\n",
    "y = \"Hallo\"\n",
    "\n",
    "if x == 0 or y == \"Hello\":\n",
    "    y = y + \" World\"  # concatenate string\n",
    "else:\n",
    "    y = y + \" Moon\"  # concatenate string\n",
    "    \n",
    "print(x)\n",
    "print(y)"
   ]
  },
  {
   "cell_type": "markdown",
   "metadata": {
    "slideshow": {
     "slide_type": "fragment"
    }
   },
   "source": [
    "* Assignment uses =  and comparison uses  ==\n",
    "* \\+ - * / %  compute numbers as expected. Use + also for string concatenation\n",
    "* Logical operators are words (`and`, `or`, `not`), not symbols (&&, ||, !)\n",
    "* First assignment of a variable will create it (no declaration necessary)\n",
    "* Python auto-assigns the variable types e.g. `number = 0.0` is `float` and `number = 0` is `int`\n",
    "* Indentation controls program structure"
   ]
  },
  {
   "cell_type": "markdown",
   "metadata": {
    "slideshow": {
     "slide_type": "slide"
    }
   },
   "source": [
    "### Function definitions and docstrings\n",
    "\n",
    "* Functions can be created with the `def` keyword\n",
    "* A docstring under the header of a function can be used to explain the function's purpose\n",
    "* Can be used to auto-generate a full code documentation with Sphinx"
   ]
  },
  {
   "cell_type": "code",
   "execution_count": 2,
   "metadata": {
    "pycharm": {
     "name": "#%%\n"
    },
    "slideshow": {
     "slide_type": "fragment"
    }
   },
   "outputs": [
    {
     "name": "stdout",
     "output_type": "stream",
     "text": [
      "-1\n",
      "1024\n"
     ]
    }
   ],
   "source": [
    "def my_function(x, y):\n",
    "  \"\"\"This is the docstring. This function computes x to the power of y. It also prints the sum of x and y.\n",
    "     \n",
    "     :param x: a number\n",
    "     :param y: a number\n",
    "     :returns: x^y\n",
    "     \"\"\"\n",
    "  \n",
    "  print(x - y)\n",
    "  return x ** y # computes x^y \n",
    "\n",
    "pwr = my_function(4,5)\n",
    "print(pwr)"
   ]
  },
  {
   "cell_type": "markdown",
   "metadata": {
    "slideshow": {
     "slide_type": "slide"
    }
   },
   "source": [
    "\n",
    "### Data types and errors"
   ]
  },
  {
   "cell_type": "code",
   "execution_count": 3,
   "metadata": {
    "pycharm": {
     "name": "#%%\n"
    },
    "slideshow": {
     "slide_type": "-"
    }
   },
   "outputs": [
    {
     "name": "stdout",
     "output_type": "stream",
     "text": [
      "<class 'int'>\n"
     ]
    },
    {
     "ename": "TypeError",
     "evalue": "can only concatenate str (not \"int\") to str",
     "output_type": "error",
     "traceback": [
      "\u001B[1;31m---------------------------------------------------------------------------\u001B[0m",
      "\u001B[1;31mTypeError\u001B[0m                                 Traceback (most recent call last)",
      "Input \u001B[1;32mIn [3]\u001B[0m, in \u001B[0;36m<module>\u001B[1;34m\u001B[0m\n\u001B[0;32m      2\u001B[0m y \u001B[38;5;241m=\u001B[39m \u001B[38;5;241m42\u001B[39m  \u001B[38;5;66;03m# y is integer\u001B[39;00m\n\u001B[0;32m      3\u001B[0m \u001B[38;5;28mprint\u001B[39m(\u001B[38;5;28mtype\u001B[39m(y))\n\u001B[1;32m----> 4\u001B[0m z \u001B[38;5;241m=\u001B[39m \u001B[43mx\u001B[49m\u001B[43m \u001B[49m\u001B[38;5;241;43m+\u001B[39;49m\u001B[43m \u001B[49m\u001B[43my\u001B[49m               \u001B[38;5;66;03m# Python complains\u001B[39;00m\n\u001B[0;32m      5\u001B[0m \u001B[38;5;28mprint\u001B[39m(z)\n\u001B[0;32m      6\u001B[0m \u001B[38;5;28mprint\u001B[39m(\u001B[38;5;124m\"\u001B[39m\u001B[38;5;124mThe script terminates with an error\u001B[39m\u001B[38;5;124m\"\u001B[39m)\n",
      "\u001B[1;31mTypeError\u001B[0m: can only concatenate str (not \"int\") to str"
     ]
    }
   ],
   "source": [
    "x = \"the answer is \"    # x is string\n",
    "y = 42  # y is integer\n",
    "print(type(y))\n",
    "z = x + y               # Python complains\n",
    "print(z)\n",
    "print(\"The script terminates with an error\") # This will not be executed because the script terminates with an error."
   ]
  },
  {
   "cell_type": "markdown",
   "metadata": {
    "slideshow": {
     "slide_type": "subslide"
    }
   },
   "source": [
    "Explicit type conversion:"
   ]
  },
  {
   "cell_type": "code",
   "execution_count": null,
   "metadata": {
    "pycharm": {
     "name": "#%%\n"
    },
    "slideshow": {
     "slide_type": "fragment"
    }
   },
   "outputs": [],
   "source": [
    "y_str = str(y)          # y_str is string\n",
    "print(type(y_str))\n",
    "x + y_str "
   ]
  },
  {
   "cell_type": "markdown",
   "metadata": {
    "slideshow": {
     "slide_type": "slide"
    }
   },
   "source": [
    "### Catching exceptions\n"
   ]
  },
  {
   "cell_type": "code",
   "execution_count": null,
   "metadata": {
    "pycharm": {
     "name": "#%%\n"
    },
    "slideshow": {
     "slide_type": "fragment"
    }
   },
   "outputs": [],
   "source": [
    "try:\n",
    "    print(x + y)\n",
    "except Exception as e:\n",
    "    print(\"Error!\")\n",
    "    print(e)\n",
    "\n",
    "print(\"This script continues\") # This will be executed because the Exception has been caught. \n"
   ]
  },
  {
   "cell_type": "markdown",
   "metadata": {
    "slideshow": {
     "slide_type": "slide"
    }
   },
   "source": [
    "### Basic string operations\n",
    "\n",
    "* \\+ can be used for string concatenation\n",
    "* A string is an array of characters, so individual characters can be accessed with `[]` (more on arrays later)\n",
    "* A very convenient method to generate and concatenate strings is to use the `.format` function in combination with formatted placeholders `{}`, `{:.2f}`. \n",
    "* `.2f` specifies that we want to convert a float to a string and only use 2 decimal places."
   ]
  },
  {
   "cell_type": "code",
   "execution_count": null,
   "metadata": {
    "pycharm": {
     "name": "#%%\n"
    },
    "slideshow": {
     "slide_type": "fragment"
    }
   },
   "outputs": [],
   "source": [
    "sample_string = \"hello\"\n",
    "print(sample_string.upper())\n",
    "print(str.upper(sample_string))    # same"
   ]
  },
  {
   "cell_type": "code",
   "execution_count": null,
   "metadata": {
    "slideshow": {
     "slide_type": "fragment"
    }
   },
   "outputs": [],
   "source": [
    "print(sample_string + sample_string)\n",
    "print(sample_string[2:4])"
   ]
  },
  {
   "cell_type": "code",
   "execution_count": null,
   "metadata": {
    "slideshow": {
     "slide_type": "fragment"
    }
   },
   "outputs": [],
   "source": [
    "z1 = 1.234\n",
    "z2 = 5.678\n",
    "z3 = 1/3\n",
    "print(z3)\n",
    "number_format_str = \"Number format: {:.2f}, {}\".format(z3, z2) \n",
    "print(number_format_str)"
   ]
  },
  {
   "cell_type": "markdown",
   "metadata": {
    "slideshow": {
     "slide_type": "slide"
    }
   },
   "source": [
    "### File operations\n",
    "\n",
    "* File objects can be generated with the `open` command.\n",
    "* Files should be closed after reading/writing. \n",
    "    * open file limit \n",
    "    * write operations not guaranteed to happen until closing\n",
    "    * otherwise Python will close files automatically, but it is not perfect at this"
   ]
  },
  {
   "cell_type": "code",
   "execution_count": null,
   "metadata": {
    "pycharm": {
     "name": "#%%\n"
    },
    "slideshow": {
     "slide_type": "fragment"
    }
   },
   "outputs": [],
   "source": [
    "fobj = open(\"new_file.txt\", \"w\") # 'w' for open in (over)write mode\n",
    "fobj.write(\"values: {:.2f}\\n\".format(1.234))\n",
    "fobj.close()\n",
    "\n",
    "fobj = open(\"new_file.txt\", \"r\") # 'r' for open in read mode\n",
    "data = fobj.read()\n",
    "fobj.close()\n",
    "print(data)"
   ]
  },
  {
   "cell_type": "code",
   "execution_count": null,
   "metadata": {
    "pycharm": {
     "name": "#%%\n"
    },
    "slideshow": {
     "slide_type": "subslide"
    }
   },
   "outputs": [],
   "source": [
    "fobj = open(\"new_file.txt\", \"a\") # 'a' for open in write append mode\n",
    "fobj.write(\"values: {:.2f}\\n\".format(5.678))\n",
    "fobj.close()\n",
    "\n",
    "fobj = open(\"new_file.txt\", \"r\") # 'r' for open in read mode\n",
    "data = fobj.read()\n",
    "fobj.close()\n",
    "print(data)\n"
   ]
  },
  {
   "cell_type": "markdown",
   "metadata": {},
   "source": [
    "### Lists"
   ]
  },
  {
   "cell_type": "markdown",
   "metadata": {},
   "source": [
    "**Lists** are defined using square brackes. Accessing an element or a range of an element is possible using the slicing notation as for strings. Appending to a list is possible with the `append()` function or with `+`."
   ]
  },
  {
   "cell_type": "code",
   "execution_count": null,
   "metadata": {},
   "outputs": [],
   "source": [
    "my_list = [1,2,3,4,5] # A list with 5 elements\n",
    "print(my_list)\n",
    "\n",
    "my_list2 = [] # An empty list\n",
    "print(my_list2)\n",
    "\n",
    "my_list2.append(4) # Adding 4 to the empty list\n",
    "print(my_list2)\n",
    "\n",
    "new_list = my_list + my_list2 # Concatenation of two lists\n",
    "print(new_list)"
   ]
  },
  {
   "cell_type": "markdown",
   "metadata": {},
   "source": [
    "Lists can also be defined as a range (note, `range(5)` does not include 5)"
   ]
  },
  {
   "cell_type": "code",
   "execution_count": null,
   "metadata": {},
   "outputs": [],
   "source": [
    "range1 = range(5)\n",
    "print(range1)\n",
    "\n",
    "range2 = range(-5,5)\n",
    "print(range2)\n"
   ]
  },
  {
   "cell_type": "markdown",
   "metadata": {},
   "source": [
    "To convert a range into a list use a typecast. However, note that a range inherits all operations from lists, so the typecast is usually not necessary."
   ]
  },
  {
   "cell_type": "code",
   "execution_count": null,
   "metadata": {},
   "outputs": [],
   "source": [
    "range_list2 = list(range2)\n",
    "print(range_list2)"
   ]
  },
  {
   "cell_type": "markdown",
   "metadata": {},
   "source": [
    "To access an element of the list, you can specify an index with square brackets:"
   ]
  },
  {
   "cell_type": "code",
   "execution_count": null,
   "metadata": {},
   "outputs": [],
   "source": [
    "print(range_list2[2]) # will print the third element of the list, because indices start at 0."
   ]
  },
  {
   "cell_type": "markdown",
   "metadata": {},
   "source": [
    "You can also _slice_ the list with the `[from(inclusive):to(exclusive)]` notation.\n",
    "If _from_ or _to_ is not specified, it defaults to the first/last element in the list."
   ]
  },
  {
   "cell_type": "code",
   "execution_count": null,
   "metadata": {},
   "outputs": [],
   "source": [
    "print(range_list2[0:2]) # first 2 elements of the list\n",
    "print(range_list2[:2]) # same\n",
    "print(range_list2[5:]) # 6th to last element"
   ]
  },
  {
   "cell_type": "markdown",
   "metadata": {},
   "source": [
    "To select the n-th last element of a list, it is possible to use the following notation:"
   ]
  },
  {
   "cell_type": "code",
   "execution_count": null,
   "metadata": {},
   "outputs": [],
   "source": [
    "second_last = range2[-2]\n",
    "print(second_last)\n",
    "from_third_last_to_end = range_list2[-3:]\n",
    "print(from_third_last_to_end)\n",
    "from_second_to_second_last = range_list2[2:-2]\n",
    "print(from_second_to_second_last)"
   ]
  },
  {
   "cell_type": "markdown",
   "metadata": {
    "slideshow": {
     "slide_type": "slide"
    }
   },
   "source": [
    "<!-- print(\"parameter1 = \" + str(params[\"parameter1\"]))\n",
    "print(\"parameter2 = \" + str(params[\"parameter2\"]))\n",
    "print(\"parameter3 = \" + str(params[\"parameter3\"]))\n",
    "print(\"parameter4 = \" + str(params[\"parameter4\"])) -->\n",
    "\n",
    "\n",
    "### Loops\n",
    "In Python, loops can be programmed in a number of different ways. The most common is the `for` loop, which is used together with iterable objects, such as lists. The basic syntax is:"
   ]
  },
  {
   "cell_type": "code",
   "execution_count": null,
   "metadata": {
    "pycharm": {
     "name": "#%%\n"
    },
    "slideshow": {
     "slide_type": "fragment"
    }
   },
   "outputs": [],
   "source": [
    "for x in [1,2]:\n",
    "    print(x)\n",
    "for x in range2: # by default range start at 0\n",
    "    print(x)"
   ]
  },
  {
   "cell_type": "code",
   "execution_count": null,
   "metadata": {
    "pycharm": {
     "name": "#%%\n"
    },
    "slideshow": {
     "slide_type": "subslide"
    }
   },
   "outputs": [],
   "source": [
    "for word in [\"scientific\", \"computing\", \"with\", \"python\"]:\n",
    "    print(word)"
   ]
  },
  {
   "cell_type": "markdown",
   "metadata": {},
   "source": [
    "With enumerate, you can iterate through this indices of a list, and with len() you can determine the length of a list as follows:"
   ]
  },
  {
   "cell_type": "code",
   "execution_count": null,
   "metadata": {},
   "outputs": [],
   "source": [
    "for i,j in enumerate(range2):\n",
    "    print(i, j)\n",
    "print(len(range2))"
   ]
  },
  {
   "cell_type": "markdown",
   "metadata": {},
   "source": [
    "**Little exercise:** Use a loop to print the product of the i-th and the i+1-th element of `range_list2`. Be careful with the last element of the list; if i is the last element of the list, use if-then to set i to 0."
   ]
  },
  {
   "cell_type": "code",
   "execution_count": null,
   "metadata": {},
   "outputs": [],
   "source": [
    "for i,j in enumerate(range2):\n",
    "    print(\"i: {}, j: {}\".format(i,j))\n",
    "    idx2 = (i + 1) % (len(range2))\n",
    "    print(idx2)\n",
    "    result = range2[i] * range2[idx2]\n",
    "    print(result)\n",
    "    # result = i-th element * i+1-th element\n",
    "    \n",
    "    # print(result) \n"
   ]
  },
  {
   "cell_type": "markdown",
   "metadata": {
    "slideshow": {
     "slide_type": "slide"
    }
   },
   "source": [
    "### Dictionaries\n",
    "\n",
    "Dictionaries are also like lists, except that each element is a key-value pair. The syntax for dictionaries is `{key1 : value1, ...}`:"
   ]
  },
  {
   "cell_type": "code",
   "execution_count": null,
   "metadata": {
    "pycharm": {
     "name": "#%%\n"
    },
    "slideshow": {
     "slide_type": "fragment"
    }
   },
   "outputs": [],
   "source": [
    "params = {\"key1\" : 1.0,\n",
    "          \"key2\" : 2.0,\n",
    "          \"key3\" : 3.0,}\n",
    "print(params)"
   ]
  },
  {
   "cell_type": "code",
   "execution_count": null,
   "metadata": {
    "pycharm": {
     "name": "#%%\n"
    },
    "slideshow": {
     "slide_type": "fragment"
    }
   },
   "outputs": [],
   "source": [
    "print(\"parameter1 = {}\".format(params[\"key1\"]))\n",
    "print(\"parameter2 = {}\".format(params[\"key2\"]))\n",
    "print(\"parameter3 = {}\".format(params[\"key3\"]))"
   ]
  },
  {
   "cell_type": "code",
   "execution_count": null,
   "metadata": {
    "pycharm": {
     "name": "#%%\n"
    },
    "slideshow": {
     "slide_type": "fragment"
    }
   },
   "outputs": [],
   "source": [
    "# overwrite params\n",
    "params[\"key1\"] = \"A\"\n",
    "params[\"key2\"] = \"B\"\n",
    "# add a new entry\n",
    "params[\"key4\"] = 4.5\n",
    "params"
   ]
  },
  {
   "cell_type": "markdown",
   "metadata": {
    "slideshow": {
     "slide_type": "fragment"
    }
   },
   "source": [
    "To iterate over key-value pairs of a dictionary:"
   ]
  },
  {
   "cell_type": "code",
   "execution_count": null,
   "metadata": {
    "pycharm": {
     "name": "#%%\n"
    },
    "slideshow": {
     "slide_type": "fragment"
    }
   },
   "outputs": [],
   "source": [
    "for key, value in params.items():\n",
    "    print(key + \" = \" + str(value))\n",
    "    \n",
    "key_list = params.keys()\n",
    "print(key_list)\n",
    "value_list = params.values()\n",
    "print(value_list)"
   ]
  },
  {
   "cell_type": "markdown",
   "metadata": {
    "slideshow": {
     "slide_type": "slide"
    }
   },
   "source": [
    "### List comprehensions: Creating lists using `for` loops:\n",
    "\n",
    "A convenient and compact way to initialize lists:"
   ]
  },
  {
   "cell_type": "code",
   "execution_count": null,
   "metadata": {
    "pycharm": {
     "name": "#%%\n"
    },
    "slideshow": {
     "slide_type": "fragment"
    }
   },
   "outputs": [],
   "source": [
    "# Verbose method:\n",
    "l_much_code = []\n",
    "for x in range(0,5):\n",
    "    l_much_code.append(x**2)\n",
    "print(l_much_code)\n",
    "\n",
    "# Compressed method\n",
    "l_less_code = [x**2 for x in range(0,5)]\n",
    "print(l_less_code)"
   ]
  },
  {
   "cell_type": "markdown",
   "metadata": {
    "slideshow": {
     "slide_type": "fragment"
    }
   },
   "source": [
    "### `while` loops:"
   ]
  },
  {
   "cell_type": "code",
   "execution_count": null,
   "metadata": {
    "pycharm": {
     "name": "#%%\n"
    },
    "slideshow": {
     "slide_type": "fragment"
    }
   },
   "outputs": [],
   "source": [
    "i = 0\n",
    "while i < 5:\n",
    "    print(i)\n",
    "    i = i + 1\n",
    "print(\"done\")"
   ]
  },
  {
   "cell_type": "code",
   "execution_count": null,
   "metadata": {},
   "outputs": [],
   "source": [
    "i = 0\n",
    "while True:\n",
    "    if i == 6:\n",
    "        break # break causes loop to abort\n",
    "    i = i + 1\n",
    "    if i == 4:\n",
    "        continue # When continue is hit, the interpreter jumps to loop head\n",
    "    print(i)\n",
    "    \n",
    "print(\"done\")"
   ]
  },
  {
   "cell_type": "markdown",
   "metadata": {
    "slideshow": {
     "slide_type": "slide"
    }
   },
   "source": [
    "### Module import\n",
    "External libraries (aka. packages/modules), provide very powerful functionalities. There exist pre-existing libraries to plot data, to implement neural nets, or to access databases. \n",
    "\n",
    "To access external libraries, Python uses the ``import`` statement. "
   ]
  },
  {
   "cell_type": "code",
   "execution_count": null,
   "metadata": {
    "pycharm": {
     "name": "#%%\n"
    },
    "slideshow": {
     "slide_type": "fragment"
    }
   },
   "outputs": [],
   "source": [
    "import math\n",
    "x = math.cos(2 * math.pi)\n",
    "x\n"
   ]
  },
  {
   "cell_type": "markdown",
   "metadata": {
    "slideshow": {
     "slide_type": "fragment"
    }
   },
   "source": [
    "Alternatively, import all symbols (functions and variables) in a module to the current namespace, so that you don't need to use the prefix \"`math.`\" every time you use something from the `math` module:"
   ]
  },
  {
   "cell_type": "code",
   "execution_count": null,
   "metadata": {
    "pycharm": {
     "name": "#%%\n"
    },
    "slideshow": {
     "slide_type": "fragment"
    }
   },
   "outputs": [],
   "source": [
    "def cos(x):\n",
    "    return x**2\n",
    "    \n",
    "from math import *\n",
    "x = cos(2 * pi)\n",
    "x"
   ]
  },
  {
   "cell_type": "markdown",
   "metadata": {
    "slideshow": {
     "slide_type": "subslide"
    }
   },
   "source": [
    "This pattern can be very convenient, but in large programs that include many modules it is often a good idea to keep the symbols from each module in their own namespaces, by using the `import math` pattern. This would elminate potentially confusing problems with name space collisions.\n",
    "\n",
    "As a third alternative, we can chose to import only a few selected symbols from a module by explicitly listing which ones we want to import instead of using the wildcard character `*`:"
   ]
  },
  {
   "cell_type": "code",
   "execution_count": null,
   "metadata": {
    "pycharm": {
     "name": "#%%\n"
    },
    "slideshow": {
     "slide_type": "fragment"
    }
   },
   "outputs": [],
   "source": [
    "from math import cos, pi\n",
    "x = cos(2 * pi)\n",
    "print(x)"
   ]
  },
  {
   "cell_type": "markdown",
   "metadata": {
    "slideshow": {
     "slide_type": "fragment"
    }
   },
   "source": [
    "Sometimes it is useful to create an alias for a module"
   ]
  },
  {
   "cell_type": "code",
   "execution_count": null,
   "metadata": {
    "slideshow": {
     "slide_type": "fragment"
    }
   },
   "outputs": [],
   "source": [
    "import math as m\n",
    "\n",
    "x = m.cos(2)"
   ]
  },
  {
   "cell_type": "markdown",
   "metadata": {
    "slideshow": {
     "slide_type": "slide"
    }
   },
   "source": [
    "### Numpy basics\n",
    "\n",
    "Numpy is all about vector algebra. Its core data structure is multi-dimensional arrays. It is THE package for deep learning and data science.\n"
   ]
  },
  {
   "cell_type": "code",
   "execution_count": null,
   "metadata": {
    "pycharm": {
     "name": "#%%\n"
    },
    "slideshow": {
     "slide_type": "fragment"
    }
   },
   "outputs": [],
   "source": [
    "import numpy \n",
    "a = numpy.zeros((2,3)) # Create a 2x3 matrix consisting of zeros\n",
    "print(a)\n",
    "\n",
    "from numpy import random\n",
    "b = random.normal(0.0,1.0,(3,2))\n",
    "print(b)"
   ]
  },
  {
   "cell_type": "markdown",
   "metadata": {
    "slideshow": {
     "slide_type": "slide"
    }
   },
   "source": [
    "\n",
    "### Numpy arrays vs. lists"
   ]
  },
  {
   "cell_type": "code",
   "execution_count": null,
   "metadata": {
    "pycharm": {
     "name": "#%%\n"
    },
    "slideshow": {
     "slide_type": "fragment"
    }
   },
   "outputs": [],
   "source": [
    "import numpy as np\n",
    "a = np.array([[1,2],[3,4]])\n",
    "x = a[0,1]     # 1st element of 0th row\n",
    "y = a[0,:]     # 0th row\n",
    "z = a[:,0]     # 0th column\n",
    "\n",
    "print(x)\n",
    "print(y)\n",
    "print(z)"
   ]
  },
  {
   "cell_type": "markdown",
   "metadata": {
    "slideshow": {
     "slide_type": "subslide"
    }
   },
   "source": [
    "This does not work with python lists:"
   ]
  },
  {
   "cell_type": "code",
   "execution_count": null,
   "metadata": {
    "pycharm": {
     "name": "#%%\n"
    },
    "slideshow": {
     "slide_type": "fragment"
    }
   },
   "outputs": [],
   "source": [
    "a2=[[1,2],[3,4]]\n",
    "try:\n",
    "    x2 = a2[0,1]\n",
    "except Exception as e:\n",
    "    print(\"Error: {}\".format(e))\n",
    "    "
   ]
  },
  {
   "cell_type": "code",
   "execution_count": null,
   "metadata": {
    "pycharm": {
     "name": "#%%\n"
    },
    "slideshow": {
     "slide_type": "fragment"
    }
   },
   "outputs": [],
   "source": [
    "x2 = a2[0][1]    # 1st element of 0th row\n",
    "print(x2)\n",
    "y2 = a2[0][:]    # 0th row\n",
    "print(y2)\n",
    "z2 = a2[:][0]  # NOT 0th column (because a2[:] == a2)\n",
    "print(z2) # Different from the z above!!!"
   ]
  },
  {
   "cell_type": "markdown",
   "metadata": {
    "slideshow": {
     "slide_type": "slide"
    }
   },
   "source": [
    "### Fast and slow Python: external modules often provide high performance\n",
    "Add 3 times the dot product $z=\\sum\\limits_{i=1}^{3}(y \\cdot x)$"
   ]
  },
  {
   "cell_type": "code",
   "execution_count": null,
   "metadata": {
    "pycharm": {
     "name": "#%%\n"
    },
    "slideshow": {
     "slide_type": "fragment"
    }
   },
   "outputs": [],
   "source": [
    "import numpy, time\n",
    "x = numpy.ones(10000)\n",
    "y = numpy.ones((400,10000))\n",
    "z = numpy.zeros(400)\n",
    "now = time.perf_counter() # Add 10 times the dot product y.z\n",
    "for i in range(3):\n",
    "  for i in range (400):\n",
    "    for j in range (10000):\n",
    "      z[i] += y[i][j]*x[j]\n",
    "duration = time.perf_counter() - now\n",
    "print(duration)"
   ]
  },
  {
   "cell_type": "code",
   "execution_count": null,
   "metadata": {
    "pycharm": {
     "name": "#%%\n"
    },
    "slideshow": {
     "slide_type": "fragment"
    }
   },
   "outputs": [],
   "source": [
    "now = time.perf_counter()\n",
    "for i in range(3):\n",
    "  z += numpy.dot(y, x)\n",
    "duration = time.perf_counter() - now\n",
    "print(duration) # The built in function is MUCH faster! More on this later!"
   ]
  },
  {
   "cell_type": "markdown",
   "metadata": {
    "slideshow": {
     "slide_type": "slide"
    }
   },
   "source": [
    "\n",
    "### Pitfall: Inconsistent modules"
   ]
  },
  {
   "cell_type": "code",
   "execution_count": null,
   "metadata": {
    "pycharm": {
     "name": "#%%\n"
    },
    "slideshow": {
     "slide_type": "fragment"
    }
   },
   "outputs": [],
   "source": [
    "import numpy\n",
    "import random\n",
    "n = numpy.zeros(15) \n",
    "r = numpy.zeros(15)\n",
    "for i in range (15):\n",
    "    n[i] = numpy.random.randint(0,2)   # 0 <= n[i] < 2\n",
    "    r[i] = random.randint(0,2)         # 0 <= r[i] < 3 !\n",
    "print(' n={} \\n r={}'.format(n,r))"
   ]
  },
  {
   "cell_type": "markdown",
   "metadata": {
    "slideshow": {
     "slide_type": "slide"
    }
   },
   "source": [
    "\n",
    "### Assignments are by reference"
   ]
  },
  {
   "cell_type": "markdown",
   "metadata": {
    "slideshow": {
     "slide_type": "-"
    }
   },
   "source": [
    "Non-fundamental datatypes are assigned by reference"
   ]
  },
  {
   "cell_type": "code",
   "execution_count": null,
   "metadata": {
    "pycharm": {
     "name": "#%%\n"
    },
    "slideshow": {
     "slide_type": "-"
    }
   },
   "outputs": [],
   "source": [
    "a = [1,2,3]\n",
    "b = a # This does not make a copy, b becomes the same object as a\n",
    "a.append(7) # Therefore, if a is changed, b will change as well \n",
    "print(b)"
   ]
  },
  {
   "cell_type": "code",
   "execution_count": null,
   "metadata": {},
   "outputs": [],
   "source": [
    "# To avoid change, create a copy:\n",
    "a = [1,2,3]\n",
    "b = a.copy()\n",
    "a.append(7)\n",
    "print(b)"
   ]
  },
  {
   "cell_type": "markdown",
   "metadata": {
    "slideshow": {
     "slide_type": "fragment"
    }
   },
   "source": [
    "Fundamental datatypes (e.g. int, float, bool) are assigned by value"
   ]
  },
  {
   "cell_type": "code",
   "execution_count": null,
   "metadata": {
    "pycharm": {
     "name": "#%%\n"
    },
    "slideshow": {
     "slide_type": "-"
    }
   },
   "outputs": [],
   "source": [
    "a = 7\n",
    "b = a # This is a basic data type (an integer), so b does NOT become the same object as a\n",
    "a += 2 # Therefore, if a is changed, b will not change as well \n",
    "print(b)"
   ]
  },
  {
   "cell_type": "markdown",
   "metadata": {
    "slideshow": {
     "slide_type": "subslide"
    }
   },
   "source": [
    "Operations often create a copy"
   ]
  },
  {
   "cell_type": "code",
   "execution_count": null,
   "metadata": {
    "pycharm": {
     "name": "#%%\n"
    },
    "slideshow": {
     "slide_type": "-"
    }
   },
   "outputs": [],
   "source": [
    "a = [1,2,3]\n",
    "c = a[1:] # The slice operation creates a copy\n",
    "print(c)\n",
    "a.append(7)\n",
    "print(c) # c is unchanged"
   ]
  },
  {
   "cell_type": "code",
   "execution_count": null,
   "metadata": {
    "pycharm": {
     "name": "#%%\n"
    },
    "slideshow": {
     "slide_type": "fragment"
    }
   },
   "outputs": [],
   "source": [
    "a = [1,2,3]\n",
    "d = numpy.array(a) # Creating a numpy array from a list also creates a copy\n",
    "a.append(7)\n",
    "print(d)"
   ]
  },
  {
   "cell_type": "markdown",
   "metadata": {
    "slideshow": {
     "slide_type": "slide"
    }
   },
   "source": [
    "### Pitfall: Function arguments are also passed by reference"
   ]
  },
  {
   "cell_type": "code",
   "execution_count": null,
   "metadata": {},
   "outputs": [],
   "source": [
    "def update_dict(d):\n",
    "   new_d={'alok':30,'Nevadan':28}\n",
    "   d.update(new_d)\n",
    "   # print(\"Inside the function\",student)\n",
    "   return d\n",
    "\n",
    "student={'Archana':28,'krishna':25,'Ramesh':32,'vineeth':25}\n",
    "print(student)"
   ]
  },
  {
   "cell_type": "code",
   "execution_count": null,
   "metadata": {},
   "outputs": [],
   "source": [
    "new_student = test(student)\n",
    "print(new_student)\n"
   ]
  },
  {
   "cell_type": "code",
   "execution_count": null,
   "metadata": {},
   "outputs": [],
   "source": [
    "print(student)"
   ]
  },
  {
   "cell_type": "markdown",
   "metadata": {
    "pycharm": {
     "name": "#%% md\n"
    },
    "slideshow": {
     "slide_type": "subslide"
    }
   },
   "source": [
    "### Copies of objects\n",
    "To avoid accidental changes to a variable, make a copy!"
   ]
  },
  {
   "cell_type": "code",
   "execution_count": null,
   "metadata": {
    "pycharm": {
     "name": "#%%\n"
    },
    "slideshow": {
     "slide_type": "fragment"
    }
   },
   "outputs": [],
   "source": [
    "a = numpy.ones(3)\n",
    "b = my_funct2(a.copy()) # To avoid accidental changes to a variable, make a copy!\n",
    "print(b)\n",
    "print(a) # a is still the same because a copy has been passed to the function\n"
   ]
  },
  {
   "cell_type": "markdown",
   "metadata": {
    "slideshow": {
     "slide_type": "slide"
    }
   },
   "source": [
    "### Object-oriented programming: classes\n"
   ]
  },
  {
   "cell_type": "code",
   "execution_count": null,
   "metadata": {
    "pycharm": {
     "name": "#%%\n"
    },
    "slideshow": {
     "slide_type": "-"
    }
   },
   "outputs": [],
   "source": [
    "class Stack:\n",
    "   def __init__(self):\n",
    "      self.items = [0]\n",
    "   def push(self, x):\n",
    "      self.items.append(x)\n",
    "   def push2(self, x):\n",
    "      self.items.append(x)\n",
    "      self.items.append(x)\n",
    "\n",
    "   def pop(self):\n",
    "      x = self.items[-1]\n",
    "      del self.items[-1]\n",
    "      return x\n",
    "   def empty(self):\n",
    "      return len(self.items) == 0\n",
    "\n"
   ]
  },
  {
   "cell_type": "code",
   "execution_count": null,
   "metadata": {
    "pycharm": {
     "name": "#%%\n"
    },
    "slideshow": {
     "slide_type": "fragment"
    }
   },
   "outputs": [],
   "source": [
    "t = Stack()\n",
    "print(t.empty())\n",
    "t.push2(\"hello\")\n",
    "print(t.empty())\n",
    "t.pop()\n",
    "print(t.empty())\n",
    "t.pop()\n",
    "print(t.empty())\n",
    "print(t)"
   ]
  },
  {
   "cell_type": "markdown",
   "metadata": {
    "pycharm": {
     "name": "#%% md\n"
    },
    "slideshow": {
     "slide_type": "slide"
    }
   },
   "source": [
    "## Summary\n",
    "* Python language primitives\n",
    "* Types\n",
    "* Control structures: Conditions and loops\n",
    "* Dictionaries and strings\n",
    "* File operations\n",
    "* Functions\n",
    "* Exceptions\n",
    "* Module import\n",
    "* Numpy package (...to be continued)\n",
    "* Pass by value vs. pass by reference\n",
    "* Classes\n",
    "\n",
    "<center>Thank you!</center>"
   ]
  }
 ],
 "metadata": {
  "celltoolbar": "Slideshow",
  "kernelspec": {
   "display_name": "Python 3",
   "language": "python",
   "name": "python3"
  },
  "language_info": {
   "codemirror_mode": {
    "name": "ipython",
    "version": 3
   },
   "file_extension": ".py",
   "mimetype": "text/x-python",
   "name": "python",
   "nbconvert_exporter": "python",
   "pygments_lexer": "ipython3",
   "version": "3.7.3"
  },
  "pycharm": {
   "stem_cell": {
    "cell_type": "raw",
    "metadata": {
     "collapsed": false
    },
    "source": []
   }
  }
 },
 "nbformat": 4,
 "nbformat_minor": 4
}